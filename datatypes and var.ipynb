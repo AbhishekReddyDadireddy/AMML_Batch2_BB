{
 "cells": [
  {
   "cell_type": "markdown",
   "id": "b5a7f1d5",
   "metadata": {},
   "source": [
    "### Rules for naming variables"
   ]
  },
  {
   "cell_type": "code",
   "execution_count": null,
   "id": "02c3e7df",
   "metadata": {},
   "outputs": [],
   "source": [
    "course=\"Artificial Intelligence and Machine Learning\""
   ]
  },
  {
   "cell_type": "code",
   "execution_count": null,
   "id": "27948adb",
   "metadata": {},
   "outputs": [],
   "source": [
    "course\n"
   ]
  },
  {
   "cell_type": "code",
   "execution_count": null,
   "id": "ab69d3b5",
   "metadata": {},
   "outputs": [],
   "source": [
    "print(course)"
   ]
  },
  {
   "cell_type": "code",
   "execution_count": null,
   "id": "078ebb4a",
   "metadata": {},
   "outputs": [],
   "source": [
    "Roll_Nos=1,2,3,4,5\n",
    "Roll_Nos"
   ]
  },
  {
   "cell_type": "code",
   "execution_count": null,
   "id": "4aed1058",
   "metadata": {},
   "outputs": [],
   "source": [
    "Roll Nos=1,2,3,4,5\n",
    "Roll Nos"
   ]
  },
  {
   "cell_type": "markdown",
   "id": "de53c9f5",
   "metadata": {},
   "source": [
    "##### 1.Space is not allowed in variable name"
   ]
  },
  {
   "cell_type": "code",
   "execution_count": null,
   "id": "822afcd2",
   "metadata": {},
   "outputs": [],
   "source": [
    "Roll+Nos=1,2,3,4,5\n",
    "Roll+Nos"
   ]
  },
  {
   "cell_type": "code",
   "execution_count": null,
   "id": "a3bc593a",
   "metadata": {},
   "outputs": [],
   "source": [
    "Roll.Nos=1,2,3,4,5\n",
    "Roll.Nos"
   ]
  },
  {
   "cell_type": "code",
   "execution_count": null,
   "id": "5a7a35df",
   "metadata": {},
   "outputs": [],
   "source": [
    "_RollNos=1,2,3,4,5\n",
    "_RollNos"
   ]
  },
  {
   "cell_type": "markdown",
   "id": "f69b068b",
   "metadata": {},
   "source": [
    "##### 2.Only allowed special character is underscore"
   ]
  },
  {
   "cell_type": "code",
   "execution_count": null,
   "id": "8bf7c1dd",
   "metadata": {},
   "outputs": [],
   "source": [
    "RollNos9=1,2,3,4,5\n",
    "RollNos9"
   ]
  },
  {
   "cell_type": "markdown",
   "id": "55bc6b97",
   "metadata": {},
   "source": [
    "##### 3.Variable name should not start with a number"
   ]
  },
  {
   "cell_type": "markdown",
   "id": "aa0cdfbf",
   "metadata": {},
   "source": [
    "##### 4.Variable names should start with A-Z,a-z,_"
   ]
  },
  {
   "cell_type": "code",
   "execution_count": null,
   "id": "8ce2f814",
   "metadata": {},
   "outputs": [],
   "source": [
    "names=\"Jagadish\",\"Sindhu\",\"Bala\"\n",
    "Names"
   ]
  },
  {
   "cell_type": "markdown",
   "id": "eb1790b6",
   "metadata": {},
   "source": [
    "##### 5.Variable name is case senssitive"
   ]
  },
  {
   "cell_type": "code",
   "execution_count": null,
   "id": "c4a20ee7",
   "metadata": {},
   "outputs": [],
   "source": []
  }
 ],
 "metadata": {
  "kernelspec": {
   "display_name": "Python 3 (ipykernel)",
   "language": "python",
   "name": "python3"
  },
  "language_info": {
   "codemirror_mode": {
    "name": "ipython",
    "version": 3
   },
   "file_extension": ".py",
   "mimetype": "text/x-python",
   "name": "python",
   "nbconvert_exporter": "python",
   "pygments_lexer": "ipython3",
   "version": "3.8.3"
  }
 },
 "nbformat": 4,
 "nbformat_minor": 5
}
