{
 "cells": [
  {
   "cell_type": "markdown",
   "id": "ef5f6880",
   "metadata": {},
   "source": [
    "### Rules for naming variables"
   ]
  },
  {
   "cell_type": "code",
   "execution_count": null,
   "id": "6548e513",
   "metadata": {},
   "outputs": [],
   "source": [
    "course=\"Artificial Intelligence and Machine Learning\""
   ]
  },
  {
   "cell_type": "code",
   "execution_count": null,
   "id": "463945da",
   "metadata": {},
   "outputs": [],
   "source": [
    "course\n"
   ]
  },
  {
   "cell_type": "code",
   "execution_count": null,
   "id": "b8d608aa",
   "metadata": {},
   "outputs": [],
   "source": [
    "print(course)"
   ]
  },
  {
   "cell_type": "code",
   "execution_count": null,
   "id": "8557b25c",
   "metadata": {},
   "outputs": [],
   "source": [
    "Roll_Nos=1,2,3,4,5\n",
    "Roll_Nos"
   ]
  },
  {
   "cell_type": "code",
   "execution_count": null,
   "id": "b19f5d31",
   "metadata": {},
   "outputs": [],
   "source": [
    "Roll Nos=1,2,3,4,5\n",
    "Roll Nos"
   ]
  },
  {
   "cell_type": "markdown",
   "id": "e9c60ddf",
   "metadata": {},
   "source": [
    "##### 1.Space is not allowed in variable name"
   ]
  },
  {
   "cell_type": "code",
   "execution_count": null,
   "id": "3c4a037f",
   "metadata": {},
   "outputs": [],
   "source": [
    "Roll+Nos=1,2,3,4,5\n",
    "Roll+Nos"
   ]
  },
  {
   "cell_type": "code",
   "execution_count": null,
   "id": "9c8f95af",
   "metadata": {},
   "outputs": [],
   "source": [
    "Roll.Nos=1,2,3,4,5\n",
    "Roll.Nos"
   ]
  },
  {
   "cell_type": "code",
   "execution_count": null,
   "id": "cf179f4f",
   "metadata": {},
   "outputs": [],
   "source": [
    "_RollNos=1,2,3,4,5\n",
    "_RollNos"
   ]
  },
  {
   "cell_type": "markdown",
   "id": "f669266c",
   "metadata": {},
   "source": [
    "##### 2.Only allowed special character is underscore"
   ]
  },
  {
   "cell_type": "code",
   "execution_count": null,
   "id": "576211fb",
   "metadata": {},
   "outputs": [],
   "source": [
    "RollNos9=1,2,3,4,5\n",
    "RollNos9"
   ]
  },
  {
   "cell_type": "markdown",
   "id": "2e94e229",
   "metadata": {},
   "source": [
    "##### 3.Variable name should not start with a number"
   ]
  },
  {
   "cell_type": "markdown",
   "id": "ed4af359",
   "metadata": {},
   "source": [
    "##### 4.Variable names should start with A-Z,a-z,_"
   ]
  },
  {
   "cell_type": "code",
   "execution_count": null,
   "id": "5216716c",
   "metadata": {},
   "outputs": [],
   "source": [
    "names=\"Jagadish\",\"Sindhu\",\"Bala\"\n",
    "Names"
   ]
  },
  {
   "cell_type": "markdown",
   "id": "d62ab823",
   "metadata": {},
   "source": [
    "##### 5.Variable name is case senssitive"
   ]
  },
  {
   "cell_type": "markdown",
   "id": "188ae76f",
   "metadata": {},
   "source": [
    "### Data Types"
   ]
  },
  {
   "cell_type": "code",
   "execution_count": 1,
   "id": "b82efbab",
   "metadata": {},
   "outputs": [
    {
     "data": {
      "text/plain": [
       "int"
      ]
     },
     "execution_count": 1,
     "metadata": {},
     "output_type": "execute_result"
    }
   ],
   "source": [
    "x=17\n",
    "type(x)"
   ]
  },
  {
   "cell_type": "markdown",
   "id": "ad4d64f4",
   "metadata": {},
   "source": [
    "##### int-integer(no decimal point)"
   ]
  },
  {
   "cell_type": "code",
   "execution_count": 2,
   "id": "6a9923bc",
   "metadata": {},
   "outputs": [
    {
     "data": {
      "text/plain": [
       "float"
      ]
     },
     "execution_count": 2,
     "metadata": {},
     "output_type": "execute_result"
    }
   ],
   "source": [
    "x=19.5\n",
    "type(x)"
   ]
  },
  {
   "cell_type": "markdown",
   "id": "b7b1a901",
   "metadata": {},
   "source": [
    "##### float-decimal point"
   ]
  },
  {
   "cell_type": "code",
   "execution_count": 3,
   "id": "413a7f6a",
   "metadata": {},
   "outputs": [
    {
     "data": {
      "text/plain": [
       "bool"
      ]
     },
     "execution_count": 3,
     "metadata": {},
     "output_type": "execute_result"
    }
   ],
   "source": [
    "x=True\n",
    "type(x)"
   ]
  },
  {
   "cell_type": "code",
   "execution_count": 4,
   "id": "534c5029",
   "metadata": {},
   "outputs": [
    {
     "data": {
      "text/plain": [
       "bool"
      ]
     },
     "execution_count": 4,
     "metadata": {},
     "output_type": "execute_result"
    }
   ],
   "source": [
    "x=False\n",
    "type(x)"
   ]
  },
  {
   "cell_type": "markdown",
   "id": "6bbdb04a",
   "metadata": {},
   "source": [
    "##### bool-Boolean->True/False"
   ]
  },
  {
   "cell_type": "code",
   "execution_count": 5,
   "id": "71db72c3",
   "metadata": {},
   "outputs": [
    {
     "data": {
      "text/plain": [
       "str"
      ]
     },
     "execution_count": 5,
     "metadata": {},
     "output_type": "execute_result"
    }
   ],
   "source": [
    "course=\"AIML\"\n",
    "type(course)"
   ]
  },
  {
   "cell_type": "markdown",
   "id": "9af9958e",
   "metadata": {},
   "source": [
    "##### string->text/char"
   ]
  },
  {
   "cell_type": "code",
   "execution_count": 6,
   "id": "e4fa99ce",
   "metadata": {},
   "outputs": [
    {
     "data": {
      "text/plain": [
       "complex"
      ]
     },
     "execution_count": 6,
     "metadata": {},
     "output_type": "execute_result"
    }
   ],
   "source": [
    "y=1-2j\n",
    "type(y)"
   ]
  },
  {
   "cell_type": "markdown",
   "id": "7d16f0b7",
   "metadata": {},
   "source": [
    "##### complex-with j(imaginary)"
   ]
  },
  {
   "cell_type": "code",
   "execution_count": null,
   "id": "50b1e40d",
   "metadata": {},
   "outputs": [],
   "source": []
  }
 ],
 "metadata": {
  "kernelspec": {
   "display_name": "Python 3 (ipykernel)",
   "language": "python",
   "name": "python3"
  },
  "language_info": {
   "codemirror_mode": {
    "name": "ipython",
    "version": 3
   },
   "file_extension": ".py",
   "mimetype": "text/x-python",
   "name": "python",
   "nbconvert_exporter": "python",
   "pygments_lexer": "ipython3",
   "version": "3.8.3"
  }
 },
 "nbformat": 4,
 "nbformat_minor": 5
}
